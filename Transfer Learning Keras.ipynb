{
 "cells": [
  {
   "cell_type": "code",
   "execution_count": 1,
   "metadata": {
    "colab": {},
    "colab_type": "code",
    "id": "7Hhz5JQqtDs9"
   },
   "outputs": [
    {
     "name": "stderr",
     "output_type": "stream",
     "text": [
      "Using TensorFlow backend.\n",
      "/anaconda3/lib/python3.6/site-packages/h5py/__init__.py:36: FutureWarning: Conversion of the second argument of issubdtype from `float` to `np.floating` is deprecated. In future, it will be treated as `np.float64 == np.dtype(float).type`.\n",
      "  from ._conv import register_converters as _register_converters\n"
     ]
    }
   ],
   "source": [
    "from keras.models import Sequential\n",
    "from keras.layers import Dense, Dropout, Activation, Flatten, Conv2D, MaxPooling2D\n",
    "from keras import applications\n",
    "from keras.layers import Dense,GlobalAveragePooling2D\n",
    "from keras.models import Model\n",
    "\n",
    "import numpy as np\n",
    "import matplotlib.pyplot as plt\n",
    "import os \n",
    "import cv2"
   ]
  },
  {
   "cell_type": "code",
   "execution_count": 0,
   "metadata": {
    "colab": {
     "base_uri": "https://localhost:8080/",
     "height": 120
    },
    "colab_type": "code",
    "executionInfo": {
     "elapsed": 30996,
     "status": "ok",
     "timestamp": 1544086229013,
     "user": {
      "displayName": "Leon van Veldhuijzen",
      "photoUrl": "",
      "userId": "09155734321631331528"
     },
     "user_tz": -60
    },
    "id": "hjQPSPk-tMWN",
    "outputId": "14406fa6-0649-47fa-e598-b84112f2907a"
   },
   "outputs": [
    {
     "name": "stdout",
     "output_type": "stream",
     "text": [
      "Go to this URL in a browser: https://accounts.google.com/o/oauth2/auth?client_id=947318989803-6bn6qk8qdgf4n4g3pfee6491hc0brc4i.apps.googleusercontent.com&redirect_uri=urn%3Aietf%3Awg%3Aoauth%3A2.0%3Aoob&scope=email%20https%3A%2F%2Fwww.googleapis.com%2Fauth%2Fdocs.test%20https%3A%2F%2Fwww.googleapis.com%2Fauth%2Fdrive%20https%3A%2F%2Fwww.googleapis.com%2Fauth%2Fdrive.photos.readonly%20https%3A%2F%2Fwww.googleapis.com%2Fauth%2Fpeopleapi.readonly&response_type=code\n",
      "\n",
      "Enter your authorization code:\n",
      "··········\n",
      "Mounted at /content/drive\n"
     ]
    }
   ],
   "source": [
    "# from google.colab import drive\n",
    "# drive.mount('/content/drive')"
   ]
  },
  {
   "cell_type": "code",
   "execution_count": 3,
   "metadata": {
    "colab": {},
    "colab_type": "code",
    "id": "v3h8GZ2YtDtN"
   },
   "outputs": [],
   "source": [
    "DATADIR = \"train_images\"\n",
    "CATEGORIES = [str(i) for i in range(121)]"
   ]
  },
  {
   "cell_type": "code",
   "execution_count": null,
   "metadata": {
    "colab": {},
    "colab_type": "code",
    "id": "zlRuzK8jtDtT",
    "outputId": "6d30a207-3c7f-4eb4-bbab-3e36a36d7905"
   },
   "outputs": [],
   "source": []
  },
  {
   "cell_type": "code",
   "execution_count": 3,
   "metadata": {
    "colab": {},
    "colab_type": "code",
    "id": "Li2f5XcItDtb"
   },
   "outputs": [
    {
     "ename": "NameError",
     "evalue": "name 'new_array' is not defined",
     "output_type": "error",
     "traceback": [
      "\u001b[0;31m---------------------------------------------------------------------------\u001b[0m",
      "\u001b[0;31mNameError\u001b[0m                                 Traceback (most recent call last)",
      "\u001b[0;32m<ipython-input-3-48a37c3ab3b2>\u001b[0m in \u001b[0;36m<module>\u001b[0;34m()\u001b[0m\n\u001b[1;32m      2\u001b[0m \u001b[0;34m\u001b[0m\u001b[0m\n\u001b[1;32m      3\u001b[0m \u001b[0;34m\u001b[0m\u001b[0m\n\u001b[0;32m----> 4\u001b[0;31m \u001b[0mplt\u001b[0m\u001b[0;34m.\u001b[0m\u001b[0mimshow\u001b[0m\u001b[0;34m(\u001b[0m\u001b[0mnew_array\u001b[0m\u001b[0;34m,\u001b[0m \u001b[0mcmap\u001b[0m \u001b[0;34m=\u001b[0m \u001b[0;34m\"gray\"\u001b[0m\u001b[0;34m)\u001b[0m\u001b[0;34m\u001b[0m\u001b[0m\n\u001b[0m",
      "\u001b[0;31mNameError\u001b[0m: name 'new_array' is not defined"
     ]
    }
   ],
   "source": [
    "# IMG_SIZE = 95\n",
    "\n",
    "\n",
    "# plt.imshow(new_array, cmap = \"gray\")"
   ]
  },
  {
   "cell_type": "code",
   "execution_count": 4,
   "metadata": {
    "colab": {},
    "colab_type": "code",
    "id": "uOXdaKsatDth"
   },
   "outputs": [],
   "source": [
    "IMG_SIZE = 95\n",
    "\n",
    "training_data = []\n",
    "\n",
    "def create_training_data():\n",
    "    for index, category in enumerate(CATEGORIES,0):\n",
    "        path = os.path.join(DATADIR, category) \n",
    "        class_num = index\n",
    "        for img in os.listdir(path):\n",
    "            img_array = cv2.imread(os.path.join(path,img))\n",
    "            new_array = cv2.resize(img_array,(IMG_SIZE, IMG_SIZE))\n",
    "            training_data.append([new_array, class_num])\n",
    "            \n",
    "create_training_data()\n",
    "        "
   ]
  },
  {
   "cell_type": "code",
   "execution_count": null,
   "metadata": {
    "colab": {
     "base_uri": "https://localhost:8080/",
     "height": 150
    },
    "colab_type": "code",
    "executionInfo": {
     "elapsed": 519,
     "status": "ok",
     "timestamp": 1544094955484,
     "user": {
      "displayName": "Leon van Veldhuijzen",
      "photoUrl": "",
      "userId": "09155734321631331528"
     },
     "user_tz": -60
    },
    "id": "88jtuu7otDtn",
    "outputId": "030c6778-751f-4f10-8ab0-87b9a79d50f7"
   },
   "outputs": [],
   "source": []
  },
  {
   "cell_type": "code",
   "execution_count": 5,
   "metadata": {
    "colab": {},
    "colab_type": "code",
    "id": "TKFRQdsytDtu"
   },
   "outputs": [],
   "source": [
    "import random \n",
    "\n",
    "random.shuffle(training_data)"
   ]
  },
  {
   "cell_type": "code",
   "execution_count": 6,
   "metadata": {
    "colab": {},
    "colab_type": "code",
    "id": "dFsv7ZRMtDuA"
   },
   "outputs": [],
   "source": [
    "\n",
    "X = []\n",
    "y = []\n",
    "\n",
    "class_weight = {}\n",
    "\n",
    "for features, label in training_data:\n",
    "    \n",
    "    X.append(features)\n",
    "    \n",
    "    one_hot = [0 for i in range(121)]\n",
    "    one_hot[label] = 1\n",
    "    \n",
    "    y.append(one_hot)\n",
    "    \n",
    "    if label in class_weight:\n",
    "      class_weight[label] += 1.0\n",
    "      \n",
    "    else:\n",
    "      class_weight[label] = 1.0\n",
    "      \n",
    "    \n",
    "X = np.array(X).reshape(-1, IMG_SIZE, IMG_SIZE, 3) \n",
    "y = np.array(y)\n",
    "\n",
    "# create class weights\n",
    "for class_num in class_weight:\n",
    "  class_weight[class_num] = 1 - (class_weight[class_num] / len(y))\n",
    "  "
   ]
  },
  {
   "cell_type": "code",
   "execution_count": 7,
   "metadata": {
    "colab": {},
    "colab_type": "code",
    "id": "2cMg_2GzaBxK"
   },
   "outputs": [
    {
     "data": {
      "text/plain": [
       "(24204, 95, 95, 3)"
      ]
     },
     "execution_count": 7,
     "metadata": {},
     "output_type": "execute_result"
    }
   ],
   "source": [
    "X.shape"
   ]
  },
  {
   "cell_type": "code",
   "execution_count": 8,
   "metadata": {
    "colab": {},
    "colab_type": "code",
    "id": "iHGKAhXOtDuS"
   },
   "outputs": [],
   "source": [
    "X = X/255.0 # normalize"
   ]
  },
  {
   "cell_type": "code",
   "execution_count": 2,
   "metadata": {},
   "outputs": [],
   "source": [
    "model = applications.VGG19(weights = \"imagenet\", include_top=False, input_shape = (95,95,3))"
   ]
  },
  {
   "cell_type": "code",
   "execution_count": null,
   "metadata": {},
   "outputs": [],
   "source": []
  },
  {
   "cell_type": "code",
   "execution_count": 4,
   "metadata": {},
   "outputs": [
    {
     "name": "stdout",
     "output_type": "stream",
     "text": [
      "WARNING:tensorflow:From /anaconda3/lib/python3.6/site-packages/keras/backend/tensorflow_backend.py:1062: calling reduce_prod (from tensorflow.python.ops.math_ops) with keep_dims is deprecated and will be removed in a future version.\n",
      "Instructions for updating:\n",
      "keep_dims is deprecated, use keepdims instead\n"
     ]
    }
   ],
   "source": [
    "x = model.output\n",
    "x = Flatten()(x)\n",
    "x = Dense(512, activation=\"relu\")(x)\n",
    "x = Dropout(0.5)(x)\n",
    "predictions = Dense(121, activation=\"softmax\")(x)"
   ]
  },
  {
   "cell_type": "code",
   "execution_count": 5,
   "metadata": {},
   "outputs": [
    {
     "ename": "NameError",
     "evalue": "name 'base_model' is not defined",
     "output_type": "error",
     "traceback": [
      "\u001b[0;31m---------------------------------------------------------------------------\u001b[0m",
      "\u001b[0;31mNameError\u001b[0m                                 Traceback (most recent call last)",
      "\u001b[0;32m<ipython-input-5-ce1ebf68b0d2>\u001b[0m in \u001b[0;36m<module>\u001b[0;34m()\u001b[0m\n\u001b[0;32m----> 1\u001b[0;31m \u001b[0mmodel\u001b[0m\u001b[0;34m=\u001b[0m\u001b[0mModel\u001b[0m\u001b[0;34m(\u001b[0m\u001b[0minputs\u001b[0m\u001b[0;34m=\u001b[0m\u001b[0mbase_model\u001b[0m\u001b[0;34m.\u001b[0m\u001b[0minput\u001b[0m\u001b[0;34m,\u001b[0m\u001b[0moutputs\u001b[0m\u001b[0;34m=\u001b[0m\u001b[0mpredictions\u001b[0m\u001b[0;34m)\u001b[0m\u001b[0;34m\u001b[0m\u001b[0m\n\u001b[0m",
      "\u001b[0;31mNameError\u001b[0m: name 'base_model' is not defined"
     ]
    }
   ],
   "source": [
    "model=Model(inputs=base_model.input,outputs=predictions)"
   ]
  },
  {
   "cell_type": "code",
   "execution_count": 7,
   "metadata": {},
   "outputs": [
    {
     "name": "stdout",
     "output_type": "stream",
     "text": [
      "input_1\n",
      "block1_conv1\n",
      "block1_conv2\n",
      "block1_pool\n",
      "block2_conv1\n",
      "block2_conv2\n",
      "block2_pool\n",
      "block3_conv1\n",
      "block3_conv2\n",
      "block3_conv3\n",
      "block3_conv4\n",
      "block3_pool\n",
      "block4_conv1\n",
      "block4_conv2\n",
      "block4_conv3\n",
      "block4_conv4\n",
      "block4_pool\n",
      "block5_conv1\n",
      "block5_conv2\n",
      "block5_conv3\n",
      "block5_conv4\n",
      "block5_pool\n"
     ]
    }
   ],
   "source": [
    "for layer in model.layers:\n",
    "    print(layer.name)"
   ]
  },
  {
   "cell_type": "code",
   "execution_count": null,
   "metadata": {},
   "outputs": [],
   "source": [
    "model.compile(loss = \"categorical_crossentropy\",\n",
    "             optimizer = \"adam\",\n",
    "             metrics = [\"accuracy\"])"
   ]
  },
  {
   "cell_type": "code",
   "execution_count": null,
   "metadata": {},
   "outputs": [],
   "source": []
  },
  {
   "cell_type": "code",
   "execution_count": null,
   "metadata": {},
   "outputs": [],
   "source": []
  },
  {
   "cell_type": "code",
   "execution_count": 67,
   "metadata": {
    "colab": {
     "base_uri": "https://localhost:8080/",
     "height": 383
    },
    "colab_type": "code",
    "executionInfo": {
     "elapsed": 225562,
     "status": "ok",
     "timestamp": 1544095991732,
     "user": {
      "displayName": "Leon van Veldhuijzen",
      "photoUrl": "",
      "userId": "09155734321631331528"
     },
     "user_tz": -60
    },
    "id": "Zq2EjdoDtDuZ",
    "outputId": "f16f173b-e81d-45e6-e37f-59e7a437b422"
   },
   "outputs": [],
   "source": [
    "# model = Sequential()\n",
    "# N_Classes = 121\n",
    "\n",
    "# # model.add(InputLayer())\n",
    "# model.add(Conv2D(64,(3,3),padding = \"same\", input_shape = X.shape[1:]))\n",
    "# model.add(Activation(\"relu\"))\n",
    "# model.add(MaxPooling2D(pool_size=(2,2)))\n",
    "# model.add(Dropout(0.25))\n",
    "\n",
    "# model.add(Conv2D(64, (3,3), padding = \"same\"))\n",
    "# model.add(Activation(\"relu\"))\n",
    "# model.add(MaxPooling2D(pool_size=(2,2)))\n",
    "# model.add(Dropout(0.25))\n",
    "\n",
    "# model.add(Conv2D(64, (3,3), padding = \"same\"))\n",
    "# model.add(Activation(\"relu\"))\n",
    "# model.add(MaxPooling2D(pool_size=(2,2)))\n",
    "# model.add(Dropout(0.25))\n",
    "\n",
    "# model.add(Flatten())\n",
    "# model.add(Dense(100))\n",
    "# model.add(Dense(N_Classes, activation='softmax'))\n",
    "\n",
    "# model.compile(loss = \"categorical_crossentropy\",\n",
    "#              optimizer = \"adam\",\n",
    "#              metrics = [\"accuracy\"])\n",
    "\n",
    "\n"
   ]
  },
  {
   "cell_type": "code",
   "execution_count": null,
   "metadata": {
    "colab": {
     "base_uri": "https://localhost:8080/",
     "height": 217
    },
    "colab_type": "code",
    "executionInfo": {
     "elapsed": 111465,
     "status": "ok",
     "timestamp": 1544097120832,
     "user": {
      "displayName": "Leon van Veldhuijzen",
      "photoUrl": "",
      "userId": "09155734321631331528"
     },
     "user_tz": -60
    },
    "id": "njaHFNPzSb2l",
    "outputId": "6234ef3e-dc8d-442b-ad49-54ab9139b597"
   },
   "outputs": [],
   "source": [
    "model.fit(X, y, batch_size = 64, epochs = 500, validation_split = 0.1)"
   ]
  },
  {
   "cell_type": "code",
   "execution_count": 0,
   "metadata": {
    "colab": {
     "base_uri": "https://localhost:8080/",
     "height": 133
    },
    "colab_type": "code",
    "executionInfo": {
     "elapsed": 93916,
     "status": "ok",
     "timestamp": 1544096469503,
     "user": {
      "displayName": "Leon van Veldhuijzen",
      "photoUrl": "",
      "userId": "09155734321631331528"
     },
     "user_tz": -60
    },
    "id": "65IKQZ8dtDuf",
    "outputId": "323e44e1-eced-4198-80b8-cc479df89c8d"
   },
   "outputs": [
    {
     "name": "stdout",
     "output_type": "stream",
     "text": [
      "Epoch 1/3\n",
      "379/378 [==============================] - 30s 79ms/step - loss: 2.9305 - acc: 0.2712\n",
      "Epoch 2/3\n",
      "379/378 [==============================] - 31s 83ms/step - loss: 2.7652 - acc: 0.2984\n",
      "Epoch 3/3\n",
      "379/378 [==============================] - 30s 80ms/step - loss: 2.7195 - acc: 0.3060\n"
     ]
    },
    {
     "data": {
      "text/plain": [
       "<tensorflow.python.keras.callbacks.History at 0x7fba33db7dd8>"
      ]
     },
     "execution_count": 19,
     "metadata": {
      "tags": []
     },
     "output_type": "execute_result"
    }
   ],
   "source": [
    "from keras.preprocessing.image import ImageDataGenerator \n",
    "\n",
    "train_generator = ImageDataGenerator(\n",
    "    \n",
    "    rotation_range = 360,\n",
    "    width_shift_range = 0.2,\n",
    "    height_shift_range = 0.2,\n",
    "    shear_range = 0.2,\n",
    "    zoom_range = 0.2,\n",
    "    horizontal_flip = True,\n",
    "    vertical_flip = True,\n",
    "    fill_mode = 'nearest'\n",
    "\n",
    ")\n",
    "\n",
    "val_generator = ImageDataGenerator(\n",
    "    \n",
    "    horizontal_flip = True,\n",
    "    vertical_flip = True,\n",
    "\n",
    ")\n",
    "\n",
    "train_generator.fit(X) # computes quantities required for featurewise normalization\n",
    "\n",
    "N_epochs = 3\n",
    "Batch_size = 64\n",
    "\n",
    "# fits the model on batches with real-time data augmentation:\n",
    "model.fit_generator(train_generator.flow(X, y, batch_size = Batch_size),\n",
    "                    steps_per_epoch=len(X) / Batch_size, epochs = N_epochs)\n",
    "    "
   ]
  },
  {
   "cell_type": "code",
   "execution_count": 0,
   "metadata": {
    "colab": {
     "base_uri": "https://localhost:8080/",
     "height": 133
    },
    "colab_type": "code",
    "executionInfo": {
     "elapsed": 92886,
     "status": "ok",
     "timestamp": 1544096967378,
     "user": {
      "displayName": "Leon van Veldhuijzen",
      "photoUrl": "",
      "userId": "09155734321631331528"
     },
     "user_tz": -60
    },
    "id": "CXYQg0BRUn_1",
    "outputId": "7b52bba3-bfba-48fe-cf79-851abdb28c23"
   },
   "outputs": [
    {
     "name": "stdout",
     "output_type": "stream",
     "text": [
      "Epoch 1/3\n",
      "379/378 [==============================] - 31s 81ms/step - loss: 3.2255 - acc: 0.2306\n",
      "Epoch 2/3\n",
      "379/378 [==============================] - 31s 81ms/step - loss: 2.8592 - acc: 0.2826\n",
      "Epoch 3/3\n",
      "379/378 [==============================] - 31s 81ms/step - loss: 2.7500 - acc: 0.3025\n"
     ]
    },
    {
     "data": {
      "text/plain": [
       "<tensorflow.python.keras.callbacks.History at 0x7fba42bc5860>"
      ]
     },
     "execution_count": 23,
     "metadata": {
      "tags": []
     },
     "output_type": "execute_result"
    }
   ],
   "source": [
    "model.fit_generator(train_generator.flow(X, y, batch_size = Batch_size),\n",
    "                    steps_per_epoch=len(X) / Batch_size, epochs = N_epochs)\n",
    "    "
   ]
  },
  {
   "cell_type": "markdown",
   "metadata": {
    "colab_type": "text",
    "id": "zF1sqDr5uIvv"
   },
   "source": [
    "# Test and Write"
   ]
  },
  {
   "cell_type": "code",
   "execution_count": 0,
   "metadata": {
    "colab": {},
    "colab_type": "code",
    "id": "nFO8KdFguHef"
   },
   "outputs": [],
   "source": [
    "from PIL import Image\n",
    "\n",
    "directory_in_str = \"drive/My Drive/AML_plankton_project/test_images/test\"\n",
    "\n",
    "\n",
    "results = list()\n",
    "\n",
    "\n",
    "for file in os.listdir(directory_in_str):\n",
    "    if file.endswith(\".jpg\"):\n",
    "        \n",
    "        filename = os.fsdecode(file)\n",
    "        image_path = os.path.join(directory_in_str, filename)\n",
    "        \n",
    "        img_array = cv2.imread(image_path, cv2.IMREAD_GRAYSCALE)\n",
    "        new_array = cv2.resize(img_array,(IMG_SIZE, IMG_SIZE))\n",
    "        norm_array = new_array / 255\n",
    "        norm_array = np.array(norm_array).reshape(-1,IMG_SIZE, IMG_SIZE, 1) \n",
    "        prediction = model.predict_classes(norm_array)\n",
    "        \n",
    "        results.append([filename, prediction[0]])\n",
    "        \n",
    "        \n",
    "\n",
    "# print(results)            \n",
    "test_results = pd.DataFrame(results, columns= [\"image\",\"class\"])\n",
    "\n",
    "print(test_results)\n"
   ]
  },
  {
   "cell_type": "code",
   "execution_count": 0,
   "metadata": {
    "colab": {},
    "colab_type": "code",
    "id": "Uu_imkltuiXg"
   },
   "outputs": [],
   "source": [
    "test_results.to_csv('output_eerste_keras.csv', index=False)"
   ]
  },
  {
   "cell_type": "code",
   "execution_count": 0,
   "metadata": {
    "colab": {},
    "colab_type": "code",
    "id": "lxEPeynmujaH"
   },
   "outputs": [],
   "source": [
    "from google.colab import files\n",
    "\n",
    "files.download(\"output_eerste_keras.csv\")"
   ]
  }
 ],
 "metadata": {
  "accelerator": "GPU",
  "colab": {
   "name": "Kopie van Keras_model.ipynb",
   "provenance": [],
   "version": "0.3.2"
  },
  "kernelspec": {
   "display_name": "Python 3",
   "language": "python",
   "name": "python3"
  },
  "language_info": {
   "codemirror_mode": {
    "name": "ipython",
    "version": 3
   },
   "file_extension": ".py",
   "mimetype": "text/x-python",
   "name": "python",
   "nbconvert_exporter": "python",
   "pygments_lexer": "ipython3",
   "version": "3.6.5"
  }
 },
 "nbformat": 4,
 "nbformat_minor": 1
}
