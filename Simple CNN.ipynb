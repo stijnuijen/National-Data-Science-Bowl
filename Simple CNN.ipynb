{
 "cells": [
  {
   "cell_type": "code",
   "execution_count": 2,
   "metadata": {
    "colab": {},
    "colab_type": "code",
    "id": "Tr6E1hmaUBoJ"
   },
   "outputs": [],
   "source": [
    "import torch\n",
    "import torch.nn as nn\n",
    "import torch.optim as optim\n",
    "from torch.optim import lr_scheduler\n",
    "import numpy as np\n",
    "import torchvision as tv\n",
    "from torchvision import datasets, models, transforms\n",
    "import matplotlib.pyplot as plt\n",
    "import time\n",
    "import os\n",
    "import copy\n",
    "import pandas as pd\n",
    "\n",
    "plt.ion()   # interactive mode"
   ]
  },
  {
   "cell_type": "code",
   "execution_count": 4,
   "metadata": {
    "colab": {
     "base_uri": "https://localhost:8080/",
     "height": 33
    },
    "colab_type": "code",
    "executionInfo": {
     "elapsed": 14234,
     "status": "ok",
     "timestamp": 1544008726374,
     "user": {
      "displayName": "Leon van Veldhuijzen",
      "photoUrl": "",
      "userId": "09155734321631331528"
     },
     "user_tz": -60
    },
    "id": "QwJ0I8OWUVSA",
    "outputId": "db7c2017-1519-4a11-fa63-57ecdcd3bc96"
   },
   "outputs": [],
   "source": [
    "from google.colab import drive\n",
    "drive.mount('/content/drive')"
   ]
  },
  {
   "cell_type": "code",
   "execution_count": 5,
   "metadata": {
    "colab": {},
    "colab_type": "code",
    "id": "OyGqRx_LT-Uh"
   },
   "outputs": [],
   "source": [
    "data_transforms = {\n",
    "    'train': transforms.Compose([\n",
    "                      transforms.Resize((95,95)),\n",
    "                      transforms.ToTensor(),\n",
    "                    transforms.Normalize((0.5, 0.5, 0.5 ), (0.5, 0.5, 0.5 )),\n",
    "                      \n",
    "                     \n",
    "                                                      ])\n",
    "\n",
    "}\n",
    "\n",
    "data_dir = \"train_images\"\n",
    "\n",
    "image_datasets = {x: datasets.ImageFolder(data_dir, data_transforms[x]) for x in ['train']}\n",
    "\n",
    "\n",
    "trainloader = {x: torch.utils.data.DataLoader(image_datasets[x], batch_size=24,\n",
    "                                             shuffle=True, num_workers=4)\n",
    "              for x in ['train']}\n",
    "dataset_sizes = {x: len(image_datasets[x]) for x in ['train']}\n",
    "class_names = image_datasets['train'].classes\n"
   ]
  },
  {
   "cell_type": "code",
   "execution_count": 6,
   "metadata": {
    "colab": {},
    "colab_type": "code",
    "id": "i9EI6ijxT-Ul"
   },
   "outputs": [],
   "source": [
    "class CNN(nn.Module):\n",
    "    def __init__(self):\n",
    "        super(CNN, self).__init__()\n",
    "        self.layer1 = nn.Sequential(\n",
    "            nn.Conv2d(3, 16, kernel_size=5, padding=2),\n",
    "            nn.ReLU(),\n",
    "            nn.MaxPool2d(2))\n",
    "        self.layer2 = nn.Sequential(\n",
    "            nn.Conv2d(16, 32, kernel_size=5, padding=2),\n",
    "            nn.ReLU(),\n",
    "            nn.MaxPool2d(2))\n",
    "        self.fc = nn.Linear(16928, 121)\n",
    "\n",
    "    def forward(self, x):\n",
    "        out = self.layer1(x)\n",
    "        out = self.layer2(out)\n",
    "        out = out.view(out.size(0), -1)\n",
    "        out = self.fc(out)\n",
    "        return out\n",
    "\n",
    "net = CNN()"
   ]
  },
  {
   "cell_type": "code",
   "execution_count": 7,
   "metadata": {
    "colab": {
     "base_uri": "https://localhost:8080/",
     "height": 33
    },
    "colab_type": "code",
    "executionInfo": {
     "elapsed": 441,
     "status": "ok",
     "timestamp": 1544011751351,
     "user": {
      "displayName": "Leon van Veldhuijzen",
      "photoUrl": "",
      "userId": "09155734321631331528"
     },
     "user_tz": -60
    },
    "id": "bymcpW7xVIOX",
    "outputId": "fa34a38b-a857-405d-f656-fcce7f34f350"
   },
   "outputs": [],
   "source": [
    "device = torch.device(\"cuda:0\" if torch.cuda.is_available() else \"cpu\")\n",
    "net.to(device)\n",
    "print(device)"
   ]
  },
  {
   "cell_type": "code",
   "execution_count": 8,
   "metadata": {
    "colab": {},
    "colab_type": "code",
    "id": "P20zgpoET-Um"
   },
   "outputs": [],
   "source": [
    "import torch.optim as optim\n",
    "\n",
    "criterion = nn.CrossEntropyLoss()\n",
    "optimizer = optim.SGD(net.parameters(), lr=0.01, momentum=0.9)"
   ]
  },
  {
   "cell_type": "code",
   "execution_count": 9,
   "metadata": {
    "colab": {
     "base_uri": "https://localhost:8080/",
     "height": 828
    },
    "colab_type": "code",
    "executionInfo": {
     "elapsed": 716,
     "status": "error",
     "timestamp": 1544011753676,
     "user": {
      "displayName": "Leon van Veldhuijzen",
      "photoUrl": "",
      "userId": "09155734321631331528"
     },
     "user_tz": -60
    },
    "id": "B__jAI7MT-Up",
    "outputId": "b0d99510-268a-4771-ecb1-31f5cb309b83"
   },
   "outputs": [
    {
     "name": "stdout",
     "output_type": "stream",
     "text": [
      "Finished Training\n"
     ]
    }
   ],
   "source": [
    "for epoch in range(1):  # loop over the dataset multiple times\n",
    "#     running_loss = 0.0\n",
    "    for i, data in enumerate(trainloader['train'], 0):\n",
    "        # get the inputs\n",
    "        inputs, labels = data\n",
    "\n",
    "        # zero the parameter gradients\n",
    "        optimizer.zero_grad()\n",
    "\n",
    "        # forward + backward + optimize\n",
    "        outputs = net(inputs)\n",
    "        \n",
    "        loss = criterion(outputs, labels)\n",
    "        loss.backward()\n",
    "        optimizer.step()\n",
    "\n",
    "#         # print statistics\n",
    "#         running_loss += loss.item()\n",
    "#         if i % 2000 == 1999:    # print every 2000 mini-batches\n",
    "#             print('[%d, %5d] loss: %.3f' %\n",
    "#                   (epoch + 1, i + 1, running_loss / 2000))\n",
    "#             running_loss = 0.0\n",
    "\n",
    "print('Finished Training')"
   ]
  },
  {
   "cell_type": "code",
   "execution_count": 10,
   "metadata": {
    "colab": {},
    "colab_type": "code",
    "id": "0_CvRjBFT-Uu"
   },
   "outputs": [],
   "source": [
    "import torch\n",
    "from torchvision import datasets\n",
    "\n",
    "class ImageFolderWithPaths(datasets.ImageFolder):\n",
    "    \"\"\"Custom dataset that includes image paths. Extends\n",
    "    torchvision.datasets.ImageFolder\n",
    "    \"\"\"\n",
    "\n",
    "    # override the __getitem__ method that dataloader calls\n",
    "    def __getitem__(self, index):\n",
    "\n",
    "        path, target = self.imgs[index]\n",
    "        img = self.loader(path)\n",
    "        if self.transform is not None:\n",
    "            img = self.transform(img)\n",
    "        if self.target_transform is not None:\n",
    "            target = self.target_transform(target)\n",
    "        \n",
    "        image_name = path.split('/')[-1]\n",
    "\n",
    "        return img, target, image_name\n",
    "\n",
    "    def __len__(self):\n",
    "        return len(self.imgs)"
   ]
  },
  {
   "cell_type": "code",
   "execution_count": 11,
   "metadata": {
    "colab": {},
    "colab_type": "code",
    "id": "LzBHkV5VT-Ux"
   },
   "outputs": [],
   "source": [
    "data_transforms_TEST = {\n",
    "    'test': transforms.Compose([\n",
    "                      transforms.Resize((95,95)),\n",
    "                      transforms.ToTensor(),\n",
    "                        transforms.Normalize((0.5, 0.5, 0.5 ), (0.5, 0.5, 0.5 ))\n",
    "                               ])\n",
    "\n",
    "}\n",
    "\n",
    "data_dir_TEST = 'test_images'\n",
    "\n",
    "image_datasets_TEST = {x: ImageFolderWithPaths(data_dir_TEST, data_transforms_TEST[x]) for x in ['test']}\n",
    "\n",
    "\n",
    "testloader = {x: torch.utils.data.DataLoader(image_datasets_TEST[x], batch_size=4,\n",
    "                                             shuffle=False, num_workers=4)\n",
    "              for x in ['test']}\n",
    "dataset_sizes_TEST = {x: len(image_datasets_TEST[x]) for x in ['test']}"
   ]
  },
  {
   "cell_type": "code",
   "execution_count": 12,
   "metadata": {
    "colab": {},
    "colab_type": "code",
    "id": "k7TXM4m8T-Uz"
   },
   "outputs": [],
   "source": [
    "image_classes = []\n",
    "image_names = []\n",
    "\n",
    "with torch.no_grad():\n",
    "    for data in testloader['test']:\n",
    "        images, labels, path = data\n",
    "        outputs = net(images)\n",
    "        _, predicted = torch.max(outputs.data, 1)\n",
    "        image_classes.extend(predicted.tolist())\n",
    "        img_name = list(path)\n",
    "        image_names.extend(img_name)\n",
    "        \n",
    "predictions = pd.DataFrame({'image': image_names, 'class': image_classes})"
   ]
  },
  {
   "cell_type": "code",
   "execution_count": 13,
   "metadata": {},
   "outputs": [],
   "source": [
    "predictions.to_csv('output_NEWEST1.csv', index=False)"
   ]
  }
 ],
 "metadata": {
  "accelerator": "GPU",
  "colab": {
   "name": "AML simple NN.ipynb",
   "provenance": [],
   "toc_visible": true,
   "version": "0.3.2"
  },
  "kernelspec": {
   "display_name": "Python 3",
   "language": "python",
   "name": "python3"
  },
  "language_info": {
   "codemirror_mode": {
    "name": "ipython",
    "version": 3
   },
   "file_extension": ".py",
   "mimetype": "text/x-python",
   "name": "python",
   "nbconvert_exporter": "python",
   "pygments_lexer": "ipython3",
   "version": "3.6.5"
  }
 },
 "nbformat": 4,
 "nbformat_minor": 1
}
