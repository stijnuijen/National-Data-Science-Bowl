{
 "cells": [
  {
   "cell_type": "code",
   "execution_count": null,
   "metadata": {
    "colab": {},
    "colab_type": "code",
    "id": "7Hhz5JQqtDs9"
   },
   "outputs": [],
   "source": [
    "from keras.models import Sequential\n",
    "from keras.layers import Dense, Dropout, Activation, Flatten, Conv2D, MaxPooling2D\n",
    "from keras import applications\n",
    "from keras.layers import Dense,GlobalAveragePooling2D\n",
    "from keras.models import Model\n",
    "\n",
    "import numpy as np\n",
    "import matplotlib.pyplot as plt\n",
    "import os \n",
    "import cv2"
   ]
  },
  {
   "cell_type": "code",
   "execution_count": null,
   "metadata": {
    "colab": {
     "base_uri": "https://localhost:8080/",
     "height": 120
    },
    "colab_type": "code",
    "executionInfo": {
     "elapsed": 30996,
     "status": "ok",
     "timestamp": 1544086229013,
     "user": {
      "displayName": "Leon van Veldhuijzen",
      "photoUrl": "",
      "userId": "09155734321631331528"
     },
     "user_tz": -60
    },
    "id": "hjQPSPk-tMWN",
    "outputId": "14406fa6-0649-47fa-e598-b84112f2907a"
   },
   "outputs": [],
   "source": [
    "from google.colab import drive\n",
    "drive.mount('/content/drive')"
   ]
  },
  {
   "cell_type": "code",
   "execution_count": null,
   "metadata": {
    "colab": {},
    "colab_type": "code",
    "id": "v3h8GZ2YtDtN"
   },
   "outputs": [],
   "source": [
    "DATADIR = \"train_images\"\n",
    "CATEGORIES = [str(i) for i in range(121)]"
   ]
  },
  {
   "cell_type": "code",
   "execution_count": null,
   "metadata": {
    "colab": {},
    "colab_type": "code",
    "id": "Li2f5XcItDtb"
   },
   "outputs": [],
   "source": [
    "IMG_SIZE = 95\n",
    "\n",
    "plt.imshow(new_array, cmap = \"gray\")"
   ]
  },
  {
   "cell_type": "code",
   "execution_count": null,
   "metadata": {
    "colab": {},
    "colab_type": "code",
    "id": "uOXdaKsatDth"
   },
   "outputs": [],
   "source": [
    "IMG_SIZE = 95\n",
    "\n",
    "training_data = []\n",
    "\n",
    "def create_training_data():\n",
    "    for index, category in enumerate(CATEGORIES,0):\n",
    "        path = os.path.join(DATADIR, category) \n",
    "        class_num = index\n",
    "        for img in os.listdir(path):\n",
    "            img_array = cv2.imread(os.path.join(path,img))\n",
    "            new_array = cv2.resize(img_array,(IMG_SIZE, IMG_SIZE))\n",
    "            training_data.append([new_array, class_num])\n",
    "            \n",
    "create_training_data()\n",
    "        "
   ]
  },
  {
   "cell_type": "code",
   "execution_count": null,
   "metadata": {
    "colab": {},
    "colab_type": "code",
    "id": "TKFRQdsytDtu"
   },
   "outputs": [],
   "source": [
    "import random \n",
    "\n",
    "random.shuffle(training_data)"
   ]
  },
  {
   "cell_type": "code",
   "execution_count": null,
   "metadata": {
    "colab": {},
    "colab_type": "code",
    "id": "dFsv7ZRMtDuA"
   },
   "outputs": [],
   "source": [
    "\n",
    "X = []\n",
    "y = []\n",
    "\n",
    "class_weight = {}\n",
    "\n",
    "for features, label in training_data:\n",
    "    \n",
    "    X.append(features)\n",
    "    \n",
    "    one_hot = [0 for i in range(121)]\n",
    "    one_hot[label] = 1\n",
    "    \n",
    "    y.append(one_hot)\n",
    "    \n",
    "    if label in class_weight:\n",
    "      class_weight[label] += 1.0\n",
    "      \n",
    "    else:\n",
    "      class_weight[label] = 1.0\n",
    "      \n",
    "    \n",
    "X = np.array(X).reshape(-1, IMG_SIZE, IMG_SIZE, 3) \n",
    "y = np.array(y)\n",
    "\n",
    "# create class weights\n",
    "for class_num in class_weight:\n",
    "  class_weight[class_num] = 1 - (class_weight[class_num] / len(y))\n",
    "  "
   ]
  },
  {
   "cell_type": "code",
   "execution_count": null,
   "metadata": {
    "colab": {},
    "colab_type": "code",
    "id": "2cMg_2GzaBxK"
   },
   "outputs": [],
   "source": [
    "X.shape"
   ]
  },
  {
   "cell_type": "code",
   "execution_count": null,
   "metadata": {
    "colab": {},
    "colab_type": "code",
    "id": "iHGKAhXOtDuS"
   },
   "outputs": [],
   "source": [
    "X = X/255.0 # normalize"
   ]
  },
  {
   "cell_type": "code",
   "execution_count": null,
   "metadata": {},
   "outputs": [],
   "source": [
    "model = applications.VGG19(weights = \"imagenet\", include_top=False, input_shape = (95,95,3))"
   ]
  },
  {
   "cell_type": "code",
   "execution_count": null,
   "metadata": {},
   "outputs": [],
   "source": [
    "x = model.output\n",
    "x = Flatten()(x)\n",
    "x = Dense(512, activation=\"relu\")(x)\n",
    "x = Dropout(0.5)(x)\n",
    "predictions = Dense(121, activation=\"softmax\")(x)"
   ]
  },
  {
   "cell_type": "code",
   "execution_count": null,
   "metadata": {},
   "outputs": [],
   "source": [
    "model=Model(inputs=base_model.input,outputs=predictions)"
   ]
  },
  {
   "cell_type": "code",
   "execution_count": null,
   "metadata": {},
   "outputs": [],
   "source": [
    "for layer in model.layers:\n",
    "    print(layer.name)"
   ]
  },
  {
   "cell_type": "code",
   "execution_count": null,
   "metadata": {},
   "outputs": [],
   "source": [
    "model.compile(loss = \"categorical_crossentropy\",\n",
    "             optimizer = \"adam\",\n",
    "             metrics = [\"accuracy\"])"
   ]
  },
  {
   "cell_type": "code",
   "execution_count": null,
   "metadata": {
    "colab": {
     "base_uri": "https://localhost:8080/",
     "height": 383
    },
    "colab_type": "code",
    "executionInfo": {
     "elapsed": 225562,
     "status": "ok",
     "timestamp": 1544095991732,
     "user": {
      "displayName": "Leon van Veldhuijzen",
      "photoUrl": "",
      "userId": "09155734321631331528"
     },
     "user_tz": -60
    },
    "id": "Zq2EjdoDtDuZ",
    "outputId": "f16f173b-e81d-45e6-e37f-59e7a437b422"
   },
   "outputs": [],
   "source": [
    "model = Sequential()\n",
    "N_Classes = 121\n",
    "\n",
    "# model.add(InputLayer())\n",
    "model.add(Conv2D(64,(3,3),padding = \"same\", input_shape = X.shape[1:]))\n",
    "model.add(Activation(\"relu\"))\n",
    "model.add(MaxPooling2D(pool_size=(2,2)))\n",
    "model.add(Dropout(0.25))\n",
    "\n",
    "model.add(Conv2D(64, (3,3), padding = \"same\"))\n",
    "model.add(Activation(\"relu\"))\n",
    "model.add(MaxPooling2D(pool_size=(2,2)))\n",
    "model.add(Dropout(0.25))\n",
    "\n",
    "model.add(Conv2D(64, (3,3), padding = \"same\"))\n",
    "model.add(Activation(\"relu\"))\n",
    "model.add(MaxPooling2D(pool_size=(2,2)))\n",
    "model.add(Dropout(0.25))\n",
    "\n",
    "model.add(Flatten())\n",
    "model.add(Dense(100))\n",
    "model.add(Dense(N_Classes, activation='softmax'))\n",
    "\n",
    "model.compile(loss = \"categorical_crossentropy\",\n",
    "             optimizer = \"adam\",\n",
    "             metrics = [\"accuracy\"])"
   ]
  },
  {
   "cell_type": "code",
   "execution_count": null,
   "metadata": {
    "colab": {
     "base_uri": "https://localhost:8080/",
     "height": 217
    },
    "colab_type": "code",
    "executionInfo": {
     "elapsed": 111465,
     "status": "ok",
     "timestamp": 1544097120832,
     "user": {
      "displayName": "Leon van Veldhuijzen",
      "photoUrl": "",
      "userId": "09155734321631331528"
     },
     "user_tz": -60
    },
    "id": "njaHFNPzSb2l",
    "outputId": "6234ef3e-dc8d-442b-ad49-54ab9139b597"
   },
   "outputs": [],
   "source": [
    "model.fit(X, y, batch_size = 64, epochs = 500, validation_split = 0.1)"
   ]
  },
  {
   "cell_type": "code",
   "execution_count": null,
   "metadata": {
    "colab": {
     "base_uri": "https://localhost:8080/",
     "height": 133
    },
    "colab_type": "code",
    "executionInfo": {
     "elapsed": 93916,
     "status": "ok",
     "timestamp": 1544096469503,
     "user": {
      "displayName": "Leon van Veldhuijzen",
      "photoUrl": "",
      "userId": "09155734321631331528"
     },
     "user_tz": -60
    },
    "id": "65IKQZ8dtDuf",
    "outputId": "323e44e1-eced-4198-80b8-cc479df89c8d"
   },
   "outputs": [],
   "source": [
    "from keras.preprocessing.image import ImageDataGenerator \n",
    "\n",
    "train_generator = ImageDataGenerator(\n",
    "    \n",
    "    rotation_range = 360,\n",
    "    width_shift_range = 0.2,\n",
    "    height_shift_range = 0.2,\n",
    "    shear_range = 0.2,\n",
    "    zoom_range = 0.2,\n",
    "    horizontal_flip = True,\n",
    "    vertical_flip = True,\n",
    "    fill_mode = 'nearest'\n",
    "\n",
    ")\n",
    "\n",
    "val_generator = ImageDataGenerator(\n",
    "    \n",
    "    horizontal_flip = True,\n",
    "    vertical_flip = True,\n",
    "\n",
    ")\n",
    "\n",
    "train_generator.fit(X) # computes quantities required for featurewise normalization\n",
    "\n",
    "N_epochs = 3\n",
    "Batch_size = 64\n",
    "\n",
    "# fits the model on batches with real-time data augmentation:\n",
    "model.fit_generator(train_generator.flow(X, y, batch_size = Batch_size),\n",
    "                    steps_per_epoch=len(X) / Batch_size, epochs = N_epochs)\n",
    "    "
   ]
  },
  {
   "cell_type": "code",
   "execution_count": null,
   "metadata": {
    "colab": {
     "base_uri": "https://localhost:8080/",
     "height": 133
    },
    "colab_type": "code",
    "executionInfo": {
     "elapsed": 92886,
     "status": "ok",
     "timestamp": 1544096967378,
     "user": {
      "displayName": "Leon van Veldhuijzen",
      "photoUrl": "",
      "userId": "09155734321631331528"
     },
     "user_tz": -60
    },
    "id": "CXYQg0BRUn_1",
    "outputId": "7b52bba3-bfba-48fe-cf79-851abdb28c23"
   },
   "outputs": [],
   "source": [
    "model.fit_generator(train_generator.flow(X, y, batch_size = Batch_size),\n",
    "                    steps_per_epoch=len(X) / Batch_size, epochs = N_epochs)\n",
    "    "
   ]
  },
  {
   "cell_type": "markdown",
   "metadata": {
    "colab_type": "text",
    "id": "zF1sqDr5uIvv"
   },
   "source": [
    "# Test and Write"
   ]
  },
  {
   "cell_type": "code",
   "execution_count": null,
   "metadata": {
    "colab": {},
    "colab_type": "code",
    "id": "nFO8KdFguHef"
   },
   "outputs": [],
   "source": [
    "from PIL import Image\n",
    "\n",
    "directory_in_str = \"drive/My Drive/AML_plankton_project/test_images/test\"\n",
    "\n",
    "\n",
    "results = list()\n",
    "\n",
    "\n",
    "for file in os.listdir(directory_in_str):\n",
    "    if file.endswith(\".jpg\"):\n",
    "        \n",
    "        filename = os.fsdecode(file)\n",
    "        image_path = os.path.join(directory_in_str, filename)\n",
    "        \n",
    "        img_array = cv2.imread(image_path, cv2.IMREAD_GRAYSCALE)\n",
    "        new_array = cv2.resize(img_array,(IMG_SIZE, IMG_SIZE))\n",
    "        norm_array = new_array / 255\n",
    "        norm_array = np.array(norm_array).reshape(-1,IMG_SIZE, IMG_SIZE, 1) \n",
    "        prediction = model.predict_classes(norm_array)\n",
    "        \n",
    "        results.append([filename, prediction[0]])\n",
    "        \n",
    "                  \n",
    "test_results = pd.DataFrame(results, columns= [\"image\",\"class\"])"
   ]
  },
  {
   "cell_type": "code",
   "execution_count": null,
   "metadata": {
    "colab": {},
    "colab_type": "code",
    "id": "Uu_imkltuiXg"
   },
   "outputs": [],
   "source": [
    "test_results.to_csv('output_eerste_keras.csv', index=False)"
   ]
  },
  {
   "cell_type": "code",
   "execution_count": null,
   "metadata": {
    "colab": {},
    "colab_type": "code",
    "id": "lxEPeynmujaH"
   },
   "outputs": [],
   "source": [
    "from google.colab import files\n",
    "\n",
    "files.download(\"output_eerste_keras.csv\")"
   ]
  }
 ],
 "metadata": {
  "accelerator": "GPU",
  "colab": {
   "name": "Kopie van Keras_model.ipynb",
   "provenance": [],
   "version": "0.3.2"
  },
  "kernelspec": {
   "display_name": "Python 3",
   "language": "python",
   "name": "python3"
  },
  "language_info": {
   "codemirror_mode": {
    "name": "ipython",
    "version": 3
   },
   "file_extension": ".py",
   "mimetype": "text/x-python",
   "name": "python",
   "nbconvert_exporter": "python",
   "pygments_lexer": "ipython3",
   "version": "3.6.5"
  }
 },
 "nbformat": 4,
 "nbformat_minor": 1
}
